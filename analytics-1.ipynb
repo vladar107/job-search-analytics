{
 "cells": [
  {
   "cell_type": "code",
   "metadata": {},
   "source": "!python3 -m pip install -r /Users/v.ramazaev/src/job-search-analytics/required.txt",
   "outputs": [],
   "execution_count": null
  },
  {
   "cell_type": "code",
   "metadata": {},
   "source": [
    "from dotenv import load_dotenv\n",
    "import os\n",
    "from notion_client import AsyncClient\n",
    "\n",
    "async def get_notion_db():\n",
    "    load_dotenv()\n",
    "    token_v2 = os.getenv(\"NOTION_TOKEN\", None)\n",
    "    database_id = os.getenv(\"NOTION_DB_ID\", None)\n",
    "\n",
    "    # request the database\n",
    "    client = AsyncClient(auth=token_v2)\n",
    "    all_results = []\n",
    "    start_cursor = None\n",
    "\n",
    "    while True:\n",
    "        response = await client.databases.query(\n",
    "            database_id=database_id,\n",
    "            start_cursor=start_cursor,\n",
    "        )\n",
    "        all_results.extend(response[\"results\"])\n",
    "\n",
    "        if not response.get(\"has_more\"):\n",
    "            break\n",
    "\n",
    "        start_cursor = response[\"next_cursor\"]\n",
    "\n",
    "    return all_results"
   ],
   "outputs": [],
   "execution_count": null
  },
  {
   "cell_type": "markdown",
   "metadata": {},
   "source": [
    "Get Data from notion"
   ]
  },
  {
   "cell_type": "code",
   "metadata": {},
   "source": [
    "from datetime import datetime\n",
    "\n",
    "# get the notion database\n",
    "notion_db = await get_notion_db()\n",
    "data = []\n",
    "\n",
    "for result in notion_db:\n",
    "    name = result[\"properties\"][\"Name\"][\"title\"][0][\"text\"][\"content\"]\n",
    "    job_category = result[\"properties\"][\"Job Category\"][\"multi_select\"][0][\"name\"] if result[\"properties\"][\"Job Category\"][\"multi_select\"] else None\n",
    "    status = result[\"properties\"][\"Status\"][\"select\"][\"name\"] if result[\"properties\"][\"Status\"][\"select\"] else None\n",
    "    applied_date = result[\"properties\"][\"Applied\"][\"date\"][\"start\"] if result[\"properties\"][\"Applied\"][\"date\"] else None\n",
    "    end_date = result[\"properties\"][\"End Date\"][\"date\"][\"start\"] if result[\"properties\"][\"End Date\"][\"date\"] else None\n",
    "    reject_reason = result[\"properties\"][\"Reject Reason\"][\"multi_select\"][0][\"name\"] if result[\"properties\"][\"Reject Reason\"][\"multi_select\"] else None\n",
    "\n",
    "    data.append({\n",
    "        \"Name\": name,\n",
    "        \"Job Category\": job_category,\n",
    "        \"Status\": status,\n",
    "        \"Applied Date\": applied_date,\n",
    "        \"End Date\": end_date,\n",
    "        \"Reject Reason\": reject_reason\n",
    "    })\n"
   ],
   "outputs": [],
   "execution_count": null
  },
  {
   "cell_type": "markdown",
   "metadata": {},
   "source": [
    "# Job by category"
   ]
  },
  {
   "cell_type": "code",
   "metadata": {},
   "source": [
    "# histogram of job categories\n",
    "import pandas as pd\n",
    "import matplotlib.pyplot as plt\n",
    "\n",
    "df = pd.DataFrame(data)\n",
    "\n",
    "df.describe()\n",
    "\n",
    "pivot = df.pivot_table(index=[\"Job Category\"], columns=[\"Reject Reason\"], values=[\"Name\"], aggfunc=\"count\")\n",
    "pivot.plot(kind=\"bar\", stacked=True)\n",
    "\n",
    "print(pivot)\n",
    "\n",
    "plt.title('Reject Reason by Category')\n",
    "plt.xlabel('Job Category')\n",
    "plt.ylabel('Count')\n",
    "plt.legend(title='Reject Reason')\n",
    "plt.yscale('log')\n",
    "plt.show()\n"
   ],
   "outputs": [],
   "execution_count": null
  },
  {
   "cell_type": "markdown",
   "metadata": {},
   "source": [
    "The distribution between Apply Date and End Date"
   ]
  },
  {
   "cell_type": "code",
   "metadata": {},
   "source": [
    "# The distribution between Apply Date and End Date\n",
    "durations = []\n",
    "for entry in [entry for entry in data if entry[\"Applied Date\"] and entry[\"End Date\"]]:\n",
    "    start = datetime.strptime(entry[\"Applied Date\"], \"%Y-%m-%d\")\n",
    "    end = datetime.strptime(entry[\"End Date\"], \"%Y-%m-%d\")\n",
    "    duration = (end - start).days\n",
    "    durations.append(duration)\n",
    "\n",
    "# Plot distribution\n",
    "plt.hist(durations, bins=range(0, max(durations)+2))\n",
    "plt.title(\"Distribution of Response Times (in days)\")\n",
    "plt.xlabel(\"Days between Applied and End Date\")\n",
    "plt.ylabel(\"Number of Applications\")\n",
    "plt.grid(True)\n",
    "plt.show()"
   ],
   "outputs": [],
   "execution_count": null
  },
  {
   "cell_type": "code",
   "metadata": {},
   "source": [
    "durations_df = pd.DataFrame(durations, columns=[\"Duration\"])\n",
    "durations_df.describe()"
   ],
   "outputs": [],
   "execution_count": null
  },
  {
   "cell_type": "markdown",
   "metadata": {},
   "source": [
    "# Apply Rate by Category"
   ]
  },
  {
   "cell_type": "code",
   "metadata": {},
   "source": [
    "# plot with applications by category\n",
    "\n",
    "grouped = df.groupby([\"Job Category\", \"Applied Date\"]).size().unstack(fill_value=0)\n",
    "grouped = grouped.reindex(sorted(grouped.columns), axis=1)  # Sort columns by date\n",
    "grouped = grouped.reindex(sorted(grouped.index), axis=0)  # Sort index by job category\n",
    "grouped = grouped.fillna(0)  # Fill NaN values with 0\n",
    "\n",
    "grouped.T.plot(kind=\"bar\", stacked=True, figsize=(30, 20))  # Use kind=\"line\" for a line chart\n",
    "\n",
    "plt.title(\"Number of Applications per Day by Job Category\")\n",
    "plt.xlabel(\"Applied Date\")\n",
    "plt.ylabel(\"Number of Applications\")\n",
    "plt.xticks(rotation=45)\n",
    "plt.grid(axis=\"y\")\n",
    "plt.tight_layout()\n",
    "plt.show()"
   ],
   "outputs": [],
   "execution_count": null
  },
  {
   "cell_type": "code",
   "metadata": {},
   "source": [
    "funnel_steps = [\"Applied\", \"Screening Invited\", \"Interview In Progress\", \"Offer\"]\n",
    "stage_map = {\n",
    "    \"Applied\": 0,\n",
    "    \"Screening Invited\": 1,\n",
    "    \"Interview In Progress\": 2,\n",
    "    \"Offer\": 3\n",
    "}\n",
    "\n",
    "def resolve_stage(row):\n",
    "    if row[\"Status\"] == \"Rejected\":\n",
    "        reason = (row.get(\"Reject Reason\") or \"\").lower()\n",
    "        if \"screening\" in reason:\n",
    "            return \"Screening Invited\"\n",
    "        elif \"technical\" in reason:\n",
    "            return \"Interview In Progress\"\n",
    "        else:\n",
    "            return \"Applied\"  # rejected early\n",
    "    return row[\"Status\"]\n",
    "\n",
    "df[\"Resolved Stage\"] = df.apply(resolve_stage, axis=1)\n",
    "df[\"Stage Index\"] = df[\"Resolved Stage\"].map(stage_map)\n",
    "\n",
    "def build_funnel_counts(subset):\n",
    "    counts = []\n",
    "    for i in range(len(funnel_steps)):\n",
    "        count = (subset[\"Stage Index\"] >= i).sum()\n",
    "        counts.append(count)\n",
    "    return pd.Series(counts, index=funnel_steps)\n",
    "\n",
    "funnel_per_category = df.groupby(\"Job Category\").apply(build_funnel_counts)\n",
    "\n",
    "funnel_per_category.loc[\"Total\"] = build_funnel_counts(df)\n",
    "\n",
    "print(funnel_per_category.loc[\"Total\"])\n",
    "\n",
    "plt.figure(figsize=(8, 5))\n",
    "plt.barh(funnel_steps[::-1], funnel_per_category.loc[\"Total\"][::-1], color=\"skyblue\")\n",
    "plt.title(\"Application Funnel (Total)\")\n",
    "plt.xlabel(\"Number of Applications\")\n",
    "plt.xscale(\"log\")\n",
    "plt.tight_layout()\n",
    "plt.show()\n"
   ],
   "outputs": [],
   "execution_count": null
  },
  {
   "cell_type": "code",
   "metadata": {},
   "source": [
    "print(funnel_per_category.T)\n",
    "\n",
    "funnel_per_category.drop(\"Total\").T.plot(kind=\"bar\")\n",
    "plt.title(\"Application Funnel by Job Category\")\n",
    "plt.ylabel(\"Number of Applications\")\n",
    "plt.xlabel(\"Stage\")\n",
    "plt.grid(axis='y')\n",
    "plt.yscale('log')\n",
    "plt.tight_layout()\n",
    "plt.show()"
   ],
   "outputs": [],
   "execution_count": null
  },
  {
   "cell_type": "code",
   "metadata": {},
   "source": [
    "total_funnel = funnel_per_category.loc[\"Total\"]\n",
    "applied_count = total_funnel[\"Applied\"]\n",
    "\n",
    "conversion_from_applied = {}\n",
    "for stage in funnel_steps[1:]:  # skip \"Applied\" itself\n",
    "    count = total_funnel[stage]\n",
    "    if applied_count > 0:\n",
    "        conversion_from_applied[f\"Applied → {stage}\"] = round((count / applied_count) * 100, 2)\n",
    "    else:\n",
    "        conversion_from_applied[f\"Applied → {stage}\"] = 0.0\n",
    "\n",
    "print(\"Conversion Rates from Applied to Later Stages:\")\n",
    "for stage, rate in conversion_from_applied.items():\n",
    "    print(f\"{stage}: {rate}%\")\n",
    "\n",
    "plt.figure(figsize=(8, 5))\n",
    "plt.barh(list(conversion_from_applied.keys())[::-1], list(conversion_from_applied.values())[::-1], color=\"orange\")\n",
    "plt.title(\"Conversion Rates from Applied to Later Stages\")\n",
    "plt.xlabel(\"Conversion Rate (%)\")\n",
    "plt.xlim(0, 20)\n",
    "plt.grid(axis=\"x\")\n",
    "plt.tight_layout()\n",
    "plt.show()"
   ],
   "outputs": [],
   "execution_count": null
  },
  {
   "cell_type": "code",
   "metadata": {},
   "source": [
    "conversion_from_applied_per_cat = {}\n",
    "\n",
    "for category, row in funnel_per_category.iterrows():\n",
    "    if category == \"Total\":\n",
    "        continue\n",
    "    applied = row[\"Applied\"]\n",
    "    category_result = {}\n",
    "    for stage in funnel_steps[1:]:  # skip \"Applied\"\n",
    "        stage_count = row[stage]\n",
    "        if applied > 0:\n",
    "            rate = round((stage_count / applied) * 100, 2)\n",
    "        else:\n",
    "            rate = 0.0\n",
    "        category_result[f\"Applied → {stage}\"] = rate\n",
    "    conversion_from_applied_per_cat[category] = category_result\n",
    "\n",
    "print(\"\\nConversion Rates from Applied to Later Stages by Job Category:\")\n",
    "for category, rates in conversion_from_applied_per_cat.items():\n",
    "    print(f\"{category}:\")\n",
    "    for stage, rate in rates.items():\n",
    "        print(f\"  {stage}: {rate}%\")\n",
    "\n",
    "# Convert to DataFrame for display and plotting\n",
    "conversion_df = pd.DataFrame(conversion_from_applied_per_cat).T\n",
    "\n",
    "conversion_df.plot(kind=\"barh\", figsize=(10, 6), stacked=False, colormap='tab20c')\n",
    "plt.title(\"Conversion Rates from Applied to Later Stages by Job Category\")\n",
    "plt.xlabel(\"Conversion Rate (%)\")\n",
    "plt.xlim(0, 35)\n",
    "plt.tight_layout()\n",
    "plt.show()"
   ],
   "outputs": [],
   "execution_count": null
  },
  {
   "metadata": {},
   "cell_type": "markdown",
   "source": "# Conversion of Staff Engineer (CV)"
  },
  {
   "metadata": {},
   "cell_type": "code",
   "source": [
    "# Filter for the selected categories\n",
    "selected_categories = [\"Technical Lead\", \"Senior Engineer\", \"Staff Engineer\"]\n",
    "filtered_funnel = funnel_per_category.loc[selected_categories]\n",
    "\n",
    "# Sum up the values across the selected categories for total conversion calculation\n",
    "total_funnel_selected = filtered_funnel.sum()\n",
    "\n",
    "# Calculate conversion rates from \"Applied\" to other stages\n",
    "applied_count = total_funnel_selected[\"Applied\"]\n",
    "conversion_from_applied = {}\n",
    "\n",
    "for stage in funnel_steps[1:]:  # Skip \"Applied\" itself\n",
    "    count = total_funnel_selected[stage]\n",
    "    if applied_count > 0:\n",
    "        conversion_from_applied[f\"Applied → {stage}\"] = round((count / applied_count) * 100, 2)\n",
    "    else:\n",
    "        conversion_from_applied[f\"Applied → {stage}\"] = 0.0\n",
    "\n",
    "# Print the conversion rates\n",
    "print(\"Total Conversion Rates from Applied to Later Stages (for selected categories):\")\n",
    "for stage, rate in conversion_from_applied.items():\n",
    "    print(f\"{stage}: {rate}%\")\n"
   ],
   "outputs": [],
   "execution_count": null
  },
  {
   "metadata": {},
   "cell_type": "markdown",
   "source": "# Conversion of Solutions Architect (CV)\n"
  },
  {
   "metadata": {},
   "cell_type": "code",
   "source": [
    "# Filter for the selected categories\n",
    "selected_categories = [\"Post Sale Engineer\", \"Sales Engineer\", \"Software/Solution Architect\"]\n",
    "filtered_funnel = funnel_per_category.loc[selected_categories]\n",
    "\n",
    "# Sum up the values across the selected categories for total conversion calculation\n",
    "total_funnel_selected = filtered_funnel.sum()\n",
    "\n",
    "# Calculate conversion rates from \"Applied\" to other stages\n",
    "applied_count = total_funnel_selected[\"Applied\"]\n",
    "conversion_from_applied = {}\n",
    "\n",
    "for stage in funnel_steps[1:]:  # Skip \"Applied\" itself\n",
    "    count = total_funnel_selected[stage]\n",
    "    if applied_count > 0:\n",
    "        conversion_from_applied[f\"Applied → {stage}\"] = round((count / applied_count) * 100, 2)\n",
    "    else:\n",
    "        conversion_from_applied[f\"Applied → {stage}\"] = 0.0\n",
    "\n",
    "# Print the conversion rates\n",
    "print(\"Total Conversion Rates from Applied to Later Stages (for selected categories):\")\n",
    "for stage, rate in conversion_from_applied.items():\n",
    "    print(f\"{stage}: {rate}%\")"
   ],
   "outputs": [],
   "execution_count": null
  }
 ],
 "metadata": {
  "kernelspec": {
   "display_name": ".venv",
   "language": "python",
   "name": "python3"
  },
  "language_info": {
   "codemirror_mode": {
    "name": "ipython",
    "version": 3
   },
   "file_extension": ".py",
   "mimetype": "text/x-python",
   "name": "python",
   "nbconvert_exporter": "python",
   "pygments_lexer": "ipython3",
   "version": "3.13.2"
  }
 },
 "nbformat": 4,
 "nbformat_minor": 2
}
